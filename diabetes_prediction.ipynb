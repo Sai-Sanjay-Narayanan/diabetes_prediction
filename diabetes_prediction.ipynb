{
 "cells": [
  {
   "cell_type": "code",
   "execution_count": 1,
   "id": "be541690",
   "metadata": {},
   "outputs": [],
   "source": [
    "import pandas as pd\n",
    "import numpy as np"
   ]
  },
  {
   "cell_type": "code",
   "execution_count": 2,
   "id": "48c1651e",
   "metadata": {},
   "outputs": [],
   "source": [
    "from sklearn.tree import DecisionTreeClassifier\n",
    "from sklearn.ensemble import RandomForestClassifier\n",
    "from sklearn.model_selection import train_test_split\n",
    "from sklearn.metrics import accuracy_score\n",
    "from xgboost import XGBClassifier"
   ]
  },
  {
   "cell_type": "code",
   "execution_count": 3,
   "id": "74523ba8",
   "metadata": {},
   "outputs": [],
   "source": [
    "RANDOM_STATE = 1"
   ]
  },
  {
   "cell_type": "code",
   "execution_count": 4,
   "id": "feba045b",
   "metadata": {},
   "outputs": [],
   "source": [
    "df = pd.read_csv(\"diabetes_prediction_dataset.csv\")"
   ]
  },
  {
   "cell_type": "code",
   "execution_count": 5,
   "id": "20ac5906",
   "metadata": {},
   "outputs": [
    {
     "data": {
      "text/html": [
       "<div>\n",
       "<style scoped>\n",
       "    .dataframe tbody tr th:only-of-type {\n",
       "        vertical-align: middle;\n",
       "    }\n",
       "\n",
       "    .dataframe tbody tr th {\n",
       "        vertical-align: top;\n",
       "    }\n",
       "\n",
       "    .dataframe thead th {\n",
       "        text-align: right;\n",
       "    }\n",
       "</style>\n",
       "<table border=\"1\" class=\"dataframe\">\n",
       "  <thead>\n",
       "    <tr style=\"text-align: right;\">\n",
       "      <th></th>\n",
       "      <th>gender</th>\n",
       "      <th>age</th>\n",
       "      <th>hypertension</th>\n",
       "      <th>heart_disease</th>\n",
       "      <th>smoking_history</th>\n",
       "      <th>bmi</th>\n",
       "      <th>HbA1c_level</th>\n",
       "      <th>blood_glucose_level</th>\n",
       "      <th>diabetes</th>\n",
       "    </tr>\n",
       "  </thead>\n",
       "  <tbody>\n",
       "    <tr>\n",
       "      <th>0</th>\n",
       "      <td>Female</td>\n",
       "      <td>80.0</td>\n",
       "      <td>0</td>\n",
       "      <td>1</td>\n",
       "      <td>never</td>\n",
       "      <td>25.19</td>\n",
       "      <td>6.6</td>\n",
       "      <td>140</td>\n",
       "      <td>0</td>\n",
       "    </tr>\n",
       "    <tr>\n",
       "      <th>1</th>\n",
       "      <td>Female</td>\n",
       "      <td>54.0</td>\n",
       "      <td>0</td>\n",
       "      <td>0</td>\n",
       "      <td>No Info</td>\n",
       "      <td>27.32</td>\n",
       "      <td>6.6</td>\n",
       "      <td>80</td>\n",
       "      <td>0</td>\n",
       "    </tr>\n",
       "    <tr>\n",
       "      <th>2</th>\n",
       "      <td>Male</td>\n",
       "      <td>28.0</td>\n",
       "      <td>0</td>\n",
       "      <td>0</td>\n",
       "      <td>never</td>\n",
       "      <td>27.32</td>\n",
       "      <td>5.7</td>\n",
       "      <td>158</td>\n",
       "      <td>0</td>\n",
       "    </tr>\n",
       "    <tr>\n",
       "      <th>3</th>\n",
       "      <td>Female</td>\n",
       "      <td>36.0</td>\n",
       "      <td>0</td>\n",
       "      <td>0</td>\n",
       "      <td>current</td>\n",
       "      <td>23.45</td>\n",
       "      <td>5.0</td>\n",
       "      <td>155</td>\n",
       "      <td>0</td>\n",
       "    </tr>\n",
       "    <tr>\n",
       "      <th>4</th>\n",
       "      <td>Male</td>\n",
       "      <td>76.0</td>\n",
       "      <td>1</td>\n",
       "      <td>1</td>\n",
       "      <td>current</td>\n",
       "      <td>20.14</td>\n",
       "      <td>4.8</td>\n",
       "      <td>155</td>\n",
       "      <td>0</td>\n",
       "    </tr>\n",
       "  </tbody>\n",
       "</table>\n",
       "</div>"
      ],
      "text/plain": [
       "   gender   age  hypertension  heart_disease smoking_history    bmi  \\\n",
       "0  Female  80.0             0              1           never  25.19   \n",
       "1  Female  54.0             0              0         No Info  27.32   \n",
       "2    Male  28.0             0              0           never  27.32   \n",
       "3  Female  36.0             0              0         current  23.45   \n",
       "4    Male  76.0             1              1         current  20.14   \n",
       "\n",
       "   HbA1c_level  blood_glucose_level  diabetes  \n",
       "0          6.6                  140         0  \n",
       "1          6.6                   80         0  \n",
       "2          5.7                  158         0  \n",
       "3          5.0                  155         0  \n",
       "4          4.8                  155         0  "
      ]
     },
     "execution_count": 5,
     "metadata": {},
     "output_type": "execute_result"
    }
   ],
   "source": [
    "df.head()"
   ]
  },
  {
   "cell_type": "code",
   "execution_count": 6,
   "id": "43eafcea",
   "metadata": {},
   "outputs": [
    {
     "data": {
      "text/plain": [
       "['gender',\n",
       " 'age',\n",
       " 'hypertension',\n",
       " 'heart_disease',\n",
       " 'smoking_history',\n",
       " 'bmi',\n",
       " 'HbA1c_level',\n",
       " 'blood_glucose_level',\n",
       " 'diabetes']"
      ]
     },
     "execution_count": 6,
     "metadata": {},
     "output_type": "execute_result"
    }
   ],
   "source": [
    "cols = list(df.columns)\n",
    "cols"
   ]
  },
  {
   "cell_type": "code",
   "execution_count": 7,
   "id": "dba6abdf",
   "metadata": {},
   "outputs": [],
   "source": [
    "cat_features = ['gender', 'smoking_history']"
   ]
  },
  {
   "cell_type": "code",
   "execution_count": 8,
   "id": "0d076cbf",
   "metadata": {},
   "outputs": [
    {
     "data": {
      "text/html": [
       "<div>\n",
       "<style scoped>\n",
       "    .dataframe tbody tr th:only-of-type {\n",
       "        vertical-align: middle;\n",
       "    }\n",
       "\n",
       "    .dataframe tbody tr th {\n",
       "        vertical-align: top;\n",
       "    }\n",
       "\n",
       "    .dataframe thead th {\n",
       "        text-align: right;\n",
       "    }\n",
       "</style>\n",
       "<table border=\"1\" class=\"dataframe\">\n",
       "  <thead>\n",
       "    <tr style=\"text-align: right;\">\n",
       "      <th></th>\n",
       "      <th>age</th>\n",
       "      <th>hypertension</th>\n",
       "      <th>heart_disease</th>\n",
       "      <th>bmi</th>\n",
       "      <th>HbA1c_level</th>\n",
       "      <th>blood_glucose_level</th>\n",
       "      <th>diabetes</th>\n",
       "      <th>gender_Female</th>\n",
       "      <th>gender_Male</th>\n",
       "      <th>gender_Other</th>\n",
       "      <th>smoking_history_No Info</th>\n",
       "      <th>smoking_history_current</th>\n",
       "      <th>smoking_history_ever</th>\n",
       "      <th>smoking_history_former</th>\n",
       "      <th>smoking_history_never</th>\n",
       "      <th>smoking_history_not current</th>\n",
       "    </tr>\n",
       "  </thead>\n",
       "  <tbody>\n",
       "    <tr>\n",
       "      <th>0</th>\n",
       "      <td>80.0</td>\n",
       "      <td>0</td>\n",
       "      <td>1</td>\n",
       "      <td>25.19</td>\n",
       "      <td>6.6</td>\n",
       "      <td>140</td>\n",
       "      <td>0</td>\n",
       "      <td>1</td>\n",
       "      <td>0</td>\n",
       "      <td>0</td>\n",
       "      <td>0</td>\n",
       "      <td>0</td>\n",
       "      <td>0</td>\n",
       "      <td>0</td>\n",
       "      <td>1</td>\n",
       "      <td>0</td>\n",
       "    </tr>\n",
       "    <tr>\n",
       "      <th>1</th>\n",
       "      <td>54.0</td>\n",
       "      <td>0</td>\n",
       "      <td>0</td>\n",
       "      <td>27.32</td>\n",
       "      <td>6.6</td>\n",
       "      <td>80</td>\n",
       "      <td>0</td>\n",
       "      <td>1</td>\n",
       "      <td>0</td>\n",
       "      <td>0</td>\n",
       "      <td>1</td>\n",
       "      <td>0</td>\n",
       "      <td>0</td>\n",
       "      <td>0</td>\n",
       "      <td>0</td>\n",
       "      <td>0</td>\n",
       "    </tr>\n",
       "    <tr>\n",
       "      <th>2</th>\n",
       "      <td>28.0</td>\n",
       "      <td>0</td>\n",
       "      <td>0</td>\n",
       "      <td>27.32</td>\n",
       "      <td>5.7</td>\n",
       "      <td>158</td>\n",
       "      <td>0</td>\n",
       "      <td>0</td>\n",
       "      <td>1</td>\n",
       "      <td>0</td>\n",
       "      <td>0</td>\n",
       "      <td>0</td>\n",
       "      <td>0</td>\n",
       "      <td>0</td>\n",
       "      <td>1</td>\n",
       "      <td>0</td>\n",
       "    </tr>\n",
       "    <tr>\n",
       "      <th>3</th>\n",
       "      <td>36.0</td>\n",
       "      <td>0</td>\n",
       "      <td>0</td>\n",
       "      <td>23.45</td>\n",
       "      <td>5.0</td>\n",
       "      <td>155</td>\n",
       "      <td>0</td>\n",
       "      <td>1</td>\n",
       "      <td>0</td>\n",
       "      <td>0</td>\n",
       "      <td>0</td>\n",
       "      <td>1</td>\n",
       "      <td>0</td>\n",
       "      <td>0</td>\n",
       "      <td>0</td>\n",
       "      <td>0</td>\n",
       "    </tr>\n",
       "    <tr>\n",
       "      <th>4</th>\n",
       "      <td>76.0</td>\n",
       "      <td>1</td>\n",
       "      <td>1</td>\n",
       "      <td>20.14</td>\n",
       "      <td>4.8</td>\n",
       "      <td>155</td>\n",
       "      <td>0</td>\n",
       "      <td>0</td>\n",
       "      <td>1</td>\n",
       "      <td>0</td>\n",
       "      <td>0</td>\n",
       "      <td>1</td>\n",
       "      <td>0</td>\n",
       "      <td>0</td>\n",
       "      <td>0</td>\n",
       "      <td>0</td>\n",
       "    </tr>\n",
       "  </tbody>\n",
       "</table>\n",
       "</div>"
      ],
      "text/plain": [
       "    age  hypertension  heart_disease    bmi  HbA1c_level  blood_glucose_level  \\\n",
       "0  80.0             0              1  25.19          6.6                  140   \n",
       "1  54.0             0              0  27.32          6.6                   80   \n",
       "2  28.0             0              0  27.32          5.7                  158   \n",
       "3  36.0             0              0  23.45          5.0                  155   \n",
       "4  76.0             1              1  20.14          4.8                  155   \n",
       "\n",
       "   diabetes  gender_Female  gender_Male  gender_Other  \\\n",
       "0         0              1            0             0   \n",
       "1         0              1            0             0   \n",
       "2         0              0            1             0   \n",
       "3         0              1            0             0   \n",
       "4         0              0            1             0   \n",
       "\n",
       "   smoking_history_No Info  smoking_history_current  smoking_history_ever  \\\n",
       "0                        0                        0                     0   \n",
       "1                        1                        0                     0   \n",
       "2                        0                        0                     0   \n",
       "3                        0                        1                     0   \n",
       "4                        0                        1                     0   \n",
       "\n",
       "   smoking_history_former  smoking_history_never  smoking_history_not current  \n",
       "0                       0                      1                            0  \n",
       "1                       0                      0                            0  \n",
       "2                       0                      1                            0  \n",
       "3                       0                      0                            0  \n",
       "4                       0                      0                            0  "
      ]
     },
     "execution_count": 8,
     "metadata": {},
     "output_type": "execute_result"
    }
   ],
   "source": [
    "# one-hot encoding\n",
    "df = pd.get_dummies(data = df, prefix = cat_features, columns = cat_features)\n",
    "df.head()"
   ]
  },
  {
   "cell_type": "code",
   "execution_count": 9,
   "id": "26d3b313",
   "metadata": {},
   "outputs": [
    {
     "name": "stdout",
     "output_type": "stream",
     "text": [
      "Index(['age', 'hypertension', 'heart_disease', 'bmi', 'HbA1c_level',\n",
      "       'blood_glucose_level', 'diabetes', 'gender_Female', 'gender_Male',\n",
      "       'gender_Other', 'smoking_history_No Info', 'smoking_history_current',\n",
      "       'smoking_history_ever', 'smoking_history_former',\n",
      "       'smoking_history_never', 'smoking_history_not current'],\n",
      "      dtype='object')\n"
     ]
    }
   ],
   "source": [
    "print(df.columns)"
   ]
  },
  {
   "cell_type": "code",
   "execution_count": 10,
   "id": "92060ac8",
   "metadata": {},
   "outputs": [
    {
     "name": "stdout",
     "output_type": "stream",
     "text": [
      "['age', 'hypertension', 'heart_disease', 'bmi', 'HbA1c_level', 'blood_glucose_level', 'gender_Female', 'gender_Male', 'gender_Other', 'smoking_history_No Info', 'smoking_history_current', 'smoking_history_ever', 'smoking_history_former', 'smoking_history_never', 'smoking_history_not current']\n"
     ]
    }
   ],
   "source": [
    "features = [x for x in df.columns if x not in ['diabetes']]\n",
    "print(features)"
   ]
  },
  {
   "cell_type": "code",
   "execution_count": 11,
   "id": "64e22b97",
   "metadata": {},
   "outputs": [],
   "source": [
    "X_train, X_test, y_train, y_test = train_test_split(df[features], df['diabetes'], train_size = 0.8, random_state = RANDOM_STATE)"
   ]
  },
  {
   "cell_type": "code",
   "execution_count": 12,
   "id": "e20f6e09",
   "metadata": {},
   "outputs": [
    {
     "data": {
      "text/plain": [
       "0.0849875"
      ]
     },
     "execution_count": 12,
     "metadata": {},
     "output_type": "execute_result"
    }
   ],
   "source": [
    "sum(y_train)/len(y_train)"
   ]
  },
  {
   "cell_type": "markdown",
   "id": "d150ce66",
   "metadata": {},
   "source": [
    "## Decision Tree Classifier"
   ]
  },
  {
   "cell_type": "code",
   "execution_count": 13,
   "id": "856753f2",
   "metadata": {},
   "outputs": [
    {
     "data": {
      "text/plain": [
       "DecisionTreeClassifier(max_depth=10, random_state=1)"
      ]
     },
     "execution_count": 13,
     "metadata": {},
     "output_type": "execute_result"
    }
   ],
   "source": [
    "model = DecisionTreeClassifier(max_depth = 10, random_state = RANDOM_STATE)\n",
    "model.fit(X_train, y_train)"
   ]
  },
  {
   "cell_type": "code",
   "execution_count": 14,
   "id": "0886427d",
   "metadata": {},
   "outputs": [
    {
     "name": "stdout",
     "output_type": "stream",
     "text": [
      "0.9724375\n"
     ]
    }
   ],
   "source": [
    "pred_train = model.predict(X_train)\n",
    "print(accuracy_score(y_train, pred_train))"
   ]
  },
  {
   "cell_type": "code",
   "execution_count": 15,
   "id": "3ce9ed2d",
   "metadata": {},
   "outputs": [
    {
     "name": "stdout",
     "output_type": "stream",
     "text": [
      "0.97115\n"
     ]
    }
   ],
   "source": [
    "pred_test = model.predict(X_test)\n",
    "print(accuracy_score(y_test, pred_test))"
   ]
  },
  {
   "cell_type": "markdown",
   "id": "842c754e",
   "metadata": {},
   "source": [
    "## Random Forest"
   ]
  },
  {
   "cell_type": "code",
   "execution_count": 16,
   "id": "d9f07dbc",
   "metadata": {},
   "outputs": [
    {
     "data": {
      "text/plain": [
       "RandomForestClassifier(max_depth=13, random_state=1)"
      ]
     },
     "execution_count": 16,
     "metadata": {},
     "output_type": "execute_result"
    }
   ],
   "source": [
    "model2 = RandomForestClassifier(n_estimators = 100, max_depth = 13, random_state = RANDOM_STATE)\n",
    "model2.fit(X_train,y_train)"
   ]
  },
  {
   "cell_type": "code",
   "execution_count": 17,
   "id": "4aef8a2f",
   "metadata": {},
   "outputs": [
    {
     "name": "stdout",
     "output_type": "stream",
     "text": [
      "0.9740625\n"
     ]
    }
   ],
   "source": [
    "pred_train = model2.predict(X_train)\n",
    "print(accuracy_score(y_train, pred_train))"
   ]
  },
  {
   "cell_type": "code",
   "execution_count": 18,
   "id": "b4acf19e",
   "metadata": {},
   "outputs": [
    {
     "name": "stdout",
     "output_type": "stream",
     "text": [
      "0.9724\n"
     ]
    }
   ],
   "source": [
    "pred_test = model2.predict(X_test)\n",
    "print(accuracy_score(y_test, pred_test))"
   ]
  },
  {
   "cell_type": "markdown",
   "id": "85c56db9",
   "metadata": {},
   "source": [
    "## XGBoost"
   ]
  },
  {
   "cell_type": "code",
   "execution_count": 19,
   "id": "987d97ac",
   "metadata": {},
   "outputs": [],
   "source": [
    "# splitting training set into fitting set and evaluation test\n",
    "n = int(len(X_train)*0.8)\n",
    "X_train_fit, X_train_eval, y_train_fit, y_train_eval = X_train[:n], X_train[n:], y_train[:n], y_train[n:]"
   ]
  },
  {
   "cell_type": "code",
   "execution_count": 20,
   "id": "ee87ae01",
   "metadata": {},
   "outputs": [
    {
     "name": "stdout",
     "output_type": "stream",
     "text": [
      "[0]\tvalidation_0-logloss:0.64909\n",
      "[1]\tvalidation_0-logloss:0.60923\n",
      "[2]\tvalidation_0-logloss:0.57299\n",
      "[3]\tvalidation_0-logloss:0.53989\n",
      "[4]\tvalidation_0-logloss:0.50962\n",
      "[5]\tvalidation_0-logloss:0.48182\n",
      "[6]\tvalidation_0-logloss:0.45622\n",
      "[7]\tvalidation_0-logloss:0.43260\n",
      "[8]\tvalidation_0-logloss:0.41072\n",
      "[9]\tvalidation_0-logloss:0.39047\n",
      "[10]\tvalidation_0-logloss:0.37169\n",
      "[11]\tvalidation_0-logloss:0.35422\n",
      "[12]\tvalidation_0-logloss:0.33796\n",
      "[13]\tvalidation_0-logloss:0.32281\n",
      "[14]\tvalidation_0-logloss:0.30868\n",
      "[15]\tvalidation_0-logloss:0.29548\n"
     ]
    },
    {
     "name": "stderr",
     "output_type": "stream",
     "text": [
      "C:\\Users\\saisn\\anaconda3\\lib\\site-packages\\xgboost\\sklearn.py:835: UserWarning: `early_stopping_rounds` in `fit` method is deprecated for better compatibility with scikit-learn, use `early_stopping_rounds` in constructor or`set_params` instead.\n",
      "  warnings.warn(\n"
     ]
    },
    {
     "name": "stdout",
     "output_type": "stream",
     "text": [
      "[16]\tvalidation_0-logloss:0.28314\n",
      "[17]\tvalidation_0-logloss:0.27159\n",
      "[18]\tvalidation_0-logloss:0.26079\n",
      "[19]\tvalidation_0-logloss:0.25066\n",
      "[20]\tvalidation_0-logloss:0.24114\n",
      "[21]\tvalidation_0-logloss:0.23221\n",
      "[22]\tvalidation_0-logloss:0.22383\n",
      "[23]\tvalidation_0-logloss:0.21595\n",
      "[24]\tvalidation_0-logloss:0.20852\n",
      "[25]\tvalidation_0-logloss:0.20156\n",
      "[26]\tvalidation_0-logloss:0.19501\n",
      "[27]\tvalidation_0-logloss:0.18881\n",
      "[28]\tvalidation_0-logloss:0.18300\n",
      "[29]\tvalidation_0-logloss:0.17751\n",
      "[30]\tvalidation_0-logloss:0.17234\n",
      "[31]\tvalidation_0-logloss:0.16747\n",
      "[32]\tvalidation_0-logloss:0.16286\n",
      "[33]\tvalidation_0-logloss:0.15851\n",
      "[34]\tvalidation_0-logloss:0.15441\n",
      "[35]\tvalidation_0-logloss:0.15055\n",
      "[36]\tvalidation_0-logloss:0.14689\n",
      "[37]\tvalidation_0-logloss:0.14343\n",
      "[38]\tvalidation_0-logloss:0.14015\n",
      "[39]\tvalidation_0-logloss:0.13707\n",
      "[40]\tvalidation_0-logloss:0.13417\n",
      "[41]\tvalidation_0-logloss:0.13141\n",
      "[42]\tvalidation_0-logloss:0.12880\n",
      "[43]\tvalidation_0-logloss:0.12634\n",
      "[44]\tvalidation_0-logloss:0.12398\n",
      "[45]\tvalidation_0-logloss:0.12176\n",
      "[46]\tvalidation_0-logloss:0.11966\n",
      "[47]\tvalidation_0-logloss:0.11768\n",
      "[48]\tvalidation_0-logloss:0.11578\n",
      "[49]\tvalidation_0-logloss:0.11398\n",
      "[50]\tvalidation_0-logloss:0.11228\n",
      "[51]\tvalidation_0-logloss:0.11069\n",
      "[52]\tvalidation_0-logloss:0.10915\n",
      "[53]\tvalidation_0-logloss:0.10770\n",
      "[54]\tvalidation_0-logloss:0.10635\n",
      "[55]\tvalidation_0-logloss:0.10492\n",
      "[56]\tvalidation_0-logloss:0.10369\n",
      "[57]\tvalidation_0-logloss:0.10252\n",
      "[58]\tvalidation_0-logloss:0.10140\n",
      "[59]\tvalidation_0-logloss:0.10033\n",
      "[60]\tvalidation_0-logloss:0.09922\n",
      "[61]\tvalidation_0-logloss:0.09826\n",
      "[62]\tvalidation_0-logloss:0.09734\n",
      "[63]\tvalidation_0-logloss:0.09639\n",
      "[64]\tvalidation_0-logloss:0.09558\n",
      "[65]\tvalidation_0-logloss:0.09478\n",
      "[66]\tvalidation_0-logloss:0.09404\n",
      "[67]\tvalidation_0-logloss:0.09327\n",
      "[68]\tvalidation_0-logloss:0.09260\n",
      "[69]\tvalidation_0-logloss:0.09198\n",
      "[70]\tvalidation_0-logloss:0.09137\n",
      "[71]\tvalidation_0-logloss:0.09080\n",
      "[72]\tvalidation_0-logloss:0.09017\n",
      "[73]\tvalidation_0-logloss:0.08964\n",
      "[74]\tvalidation_0-logloss:0.08913\n",
      "[75]\tvalidation_0-logloss:0.08865\n",
      "[76]\tvalidation_0-logloss:0.08821\n",
      "[77]\tvalidation_0-logloss:0.08779\n",
      "[78]\tvalidation_0-logloss:0.08737\n",
      "[79]\tvalidation_0-logloss:0.08697\n",
      "[80]\tvalidation_0-logloss:0.08661\n",
      "[81]\tvalidation_0-logloss:0.08625\n",
      "[82]\tvalidation_0-logloss:0.08592\n",
      "[83]\tvalidation_0-logloss:0.08559\n",
      "[84]\tvalidation_0-logloss:0.08527\n",
      "[85]\tvalidation_0-logloss:0.08496\n",
      "[86]\tvalidation_0-logloss:0.08469\n",
      "[87]\tvalidation_0-logloss:0.08441\n",
      "[88]\tvalidation_0-logloss:0.08415\n",
      "[89]\tvalidation_0-logloss:0.08391\n",
      "[90]\tvalidation_0-logloss:0.08369\n",
      "[91]\tvalidation_0-logloss:0.08339\n",
      "[92]\tvalidation_0-logloss:0.08315\n",
      "[93]\tvalidation_0-logloss:0.08294\n",
      "[94]\tvalidation_0-logloss:0.08270\n",
      "[95]\tvalidation_0-logloss:0.08255\n",
      "[96]\tvalidation_0-logloss:0.08227\n",
      "[97]\tvalidation_0-logloss:0.08210\n",
      "[98]\tvalidation_0-logloss:0.08195\n",
      "[99]\tvalidation_0-logloss:0.08181\n",
      "[100]\tvalidation_0-logloss:0.08166\n",
      "[101]\tvalidation_0-logloss:0.08152\n",
      "[102]\tvalidation_0-logloss:0.08135\n",
      "[103]\tvalidation_0-logloss:0.08121\n",
      "[104]\tvalidation_0-logloss:0.08110\n",
      "[105]\tvalidation_0-logloss:0.08098\n",
      "[106]\tvalidation_0-logloss:0.08085\n",
      "[107]\tvalidation_0-logloss:0.08075\n",
      "[108]\tvalidation_0-logloss:0.08054\n",
      "[109]\tvalidation_0-logloss:0.08036\n",
      "[110]\tvalidation_0-logloss:0.08024\n",
      "[111]\tvalidation_0-logloss:0.08015\n",
      "[112]\tvalidation_0-logloss:0.07997\n",
      "[113]\tvalidation_0-logloss:0.07989\n",
      "[114]\tvalidation_0-logloss:0.07981\n",
      "[115]\tvalidation_0-logloss:0.07975\n",
      "[116]\tvalidation_0-logloss:0.07968\n",
      "[117]\tvalidation_0-logloss:0.07952\n",
      "[118]\tvalidation_0-logloss:0.07946\n",
      "[119]\tvalidation_0-logloss:0.07932\n",
      "[120]\tvalidation_0-logloss:0.07925\n",
      "[121]\tvalidation_0-logloss:0.07917\n",
      "[122]\tvalidation_0-logloss:0.07912\n",
      "[123]\tvalidation_0-logloss:0.07906\n",
      "[124]\tvalidation_0-logloss:0.07903\n",
      "[125]\tvalidation_0-logloss:0.07898\n",
      "[126]\tvalidation_0-logloss:0.07892\n",
      "[127]\tvalidation_0-logloss:0.07886\n",
      "[128]\tvalidation_0-logloss:0.07882\n",
      "[129]\tvalidation_0-logloss:0.07871\n",
      "[130]\tvalidation_0-logloss:0.07865\n",
      "[131]\tvalidation_0-logloss:0.07862\n",
      "[132]\tvalidation_0-logloss:0.07858\n",
      "[133]\tvalidation_0-logloss:0.07848\n",
      "[134]\tvalidation_0-logloss:0.07844\n",
      "[135]\tvalidation_0-logloss:0.07840\n",
      "[136]\tvalidation_0-logloss:0.07831\n",
      "[137]\tvalidation_0-logloss:0.07826\n",
      "[138]\tvalidation_0-logloss:0.07817\n",
      "[139]\tvalidation_0-logloss:0.07814\n",
      "[140]\tvalidation_0-logloss:0.07810\n",
      "[141]\tvalidation_0-logloss:0.07806\n",
      "[142]\tvalidation_0-logloss:0.07802\n",
      "[143]\tvalidation_0-logloss:0.07795\n",
      "[144]\tvalidation_0-logloss:0.07787\n",
      "[145]\tvalidation_0-logloss:0.07785\n",
      "[146]\tvalidation_0-logloss:0.07783\n",
      "[147]\tvalidation_0-logloss:0.07775\n",
      "[148]\tvalidation_0-logloss:0.07775\n",
      "[149]\tvalidation_0-logloss:0.07768\n",
      "[150]\tvalidation_0-logloss:0.07767\n",
      "[151]\tvalidation_0-logloss:0.07766\n",
      "[152]\tvalidation_0-logloss:0.07759\n",
      "[153]\tvalidation_0-logloss:0.07758\n",
      "[154]\tvalidation_0-logloss:0.07757\n",
      "[155]\tvalidation_0-logloss:0.07757\n",
      "[156]\tvalidation_0-logloss:0.07751\n",
      "[157]\tvalidation_0-logloss:0.07749\n",
      "[158]\tvalidation_0-logloss:0.07748\n",
      "[159]\tvalidation_0-logloss:0.07742\n",
      "[160]\tvalidation_0-logloss:0.07740\n",
      "[161]\tvalidation_0-logloss:0.07741\n",
      "[162]\tvalidation_0-logloss:0.07740\n",
      "[163]\tvalidation_0-logloss:0.07739\n",
      "[164]\tvalidation_0-logloss:0.07739\n",
      "[165]\tvalidation_0-logloss:0.07737\n",
      "[166]\tvalidation_0-logloss:0.07736\n",
      "[167]\tvalidation_0-logloss:0.07731\n",
      "[168]\tvalidation_0-logloss:0.07730\n",
      "[169]\tvalidation_0-logloss:0.07725\n",
      "[170]\tvalidation_0-logloss:0.07723\n",
      "[171]\tvalidation_0-logloss:0.07720\n",
      "[172]\tvalidation_0-logloss:0.07719\n",
      "[173]\tvalidation_0-logloss:0.07715\n",
      "[174]\tvalidation_0-logloss:0.07713\n",
      "[175]\tvalidation_0-logloss:0.07710\n",
      "[176]\tvalidation_0-logloss:0.07709\n",
      "[177]\tvalidation_0-logloss:0.07705\n",
      "[178]\tvalidation_0-logloss:0.07703\n",
      "[179]\tvalidation_0-logloss:0.07702\n",
      "[180]\tvalidation_0-logloss:0.07702\n",
      "[181]\tvalidation_0-logloss:0.07701\n",
      "[182]\tvalidation_0-logloss:0.07701\n",
      "[183]\tvalidation_0-logloss:0.07701\n",
      "[184]\tvalidation_0-logloss:0.07697\n",
      "[185]\tvalidation_0-logloss:0.07696\n",
      "[186]\tvalidation_0-logloss:0.07696\n",
      "[187]\tvalidation_0-logloss:0.07694\n",
      "[188]\tvalidation_0-logloss:0.07691\n",
      "[189]\tvalidation_0-logloss:0.07691\n",
      "[190]\tvalidation_0-logloss:0.07690\n",
      "[191]\tvalidation_0-logloss:0.07690\n",
      "[192]\tvalidation_0-logloss:0.07690\n",
      "[193]\tvalidation_0-logloss:0.07690\n",
      "[194]\tvalidation_0-logloss:0.07690\n",
      "[195]\tvalidation_0-logloss:0.07690\n",
      "[196]\tvalidation_0-logloss:0.07690\n",
      "[197]\tvalidation_0-logloss:0.07690\n",
      "[198]\tvalidation_0-logloss:0.07690\n",
      "[199]\tvalidation_0-logloss:0.07690\n",
      "[200]\tvalidation_0-logloss:0.07690\n",
      "[201]\tvalidation_0-logloss:0.07687\n",
      "[202]\tvalidation_0-logloss:0.07690\n",
      "[203]\tvalidation_0-logloss:0.07690\n",
      "[204]\tvalidation_0-logloss:0.07690\n",
      "[205]\tvalidation_0-logloss:0.07687\n",
      "[206]\tvalidation_0-logloss:0.07687\n",
      "[207]\tvalidation_0-logloss:0.07686\n",
      "[208]\tvalidation_0-logloss:0.07687\n",
      "[209]\tvalidation_0-logloss:0.07687\n",
      "[210]\tvalidation_0-logloss:0.07687\n",
      "[211]\tvalidation_0-logloss:0.07687\n",
      "[212]\tvalidation_0-logloss:0.07684\n",
      "[213]\tvalidation_0-logloss:0.07686\n",
      "[214]\tvalidation_0-logloss:0.07687\n",
      "[215]\tvalidation_0-logloss:0.07686\n",
      "[216]\tvalidation_0-logloss:0.07686\n",
      "[217]\tvalidation_0-logloss:0.07686\n",
      "[218]\tvalidation_0-logloss:0.07686\n",
      "[219]\tvalidation_0-logloss:0.07685\n",
      "[220]\tvalidation_0-logloss:0.07683\n",
      "[221]\tvalidation_0-logloss:0.07683\n",
      "[222]\tvalidation_0-logloss:0.07684\n",
      "[223]\tvalidation_0-logloss:0.07683\n",
      "[224]\tvalidation_0-logloss:0.07683\n",
      "[225]\tvalidation_0-logloss:0.07683\n",
      "[226]\tvalidation_0-logloss:0.07683\n",
      "[227]\tvalidation_0-logloss:0.07681\n",
      "[228]\tvalidation_0-logloss:0.07681\n",
      "[229]\tvalidation_0-logloss:0.07682\n",
      "[230]\tvalidation_0-logloss:0.07680\n",
      "[231]\tvalidation_0-logloss:0.07681\n",
      "[232]\tvalidation_0-logloss:0.07681\n",
      "[233]\tvalidation_0-logloss:0.07680\n",
      "[234]\tvalidation_0-logloss:0.07680\n",
      "[235]\tvalidation_0-logloss:0.07680\n",
      "[236]\tvalidation_0-logloss:0.07680\n",
      "[237]\tvalidation_0-logloss:0.07680\n",
      "[238]\tvalidation_0-logloss:0.07678\n",
      "[239]\tvalidation_0-logloss:0.07678\n",
      "[240]\tvalidation_0-logloss:0.07679\n",
      "[241]\tvalidation_0-logloss:0.07680\n",
      "[242]\tvalidation_0-logloss:0.07680\n",
      "[243]\tvalidation_0-logloss:0.07678\n",
      "[244]\tvalidation_0-logloss:0.07678\n",
      "[245]\tvalidation_0-logloss:0.07678\n",
      "[246]\tvalidation_0-logloss:0.07679\n",
      "[247]\tvalidation_0-logloss:0.07678\n",
      "[248]\tvalidation_0-logloss:0.07678\n",
      "[249]\tvalidation_0-logloss:0.07678\n",
      "[250]\tvalidation_0-logloss:0.07679\n",
      "[251]\tvalidation_0-logloss:0.07680\n",
      "[252]\tvalidation_0-logloss:0.07679\n"
     ]
    },
    {
     "data": {
      "text/plain": [
       "XGBClassifier(base_score=None, booster=None, callbacks=None,\n",
       "              colsample_bylevel=None, colsample_bynode=None,\n",
       "              colsample_bytree=None, early_stopping_rounds=None,\n",
       "              enable_categorical=False, eval_metric=None, feature_types=None,\n",
       "              gamma=None, gpu_id=None, grow_policy=None, importance_type=None,\n",
       "              interaction_constraints=None, learning_rate=0.05, max_bin=None,\n",
       "              max_cat_threshold=None, max_cat_to_onehot=None,\n",
       "              max_delta_step=None, max_depth=None, max_leaves=None,\n",
       "              min_child_weight=None, missing=nan, monotone_constraints=None,\n",
       "              n_estimators=700, n_jobs=None, num_parallel_tree=None,\n",
       "              predictor=None, random_state=1, ...)"
      ]
     },
     "execution_count": 20,
     "metadata": {},
     "output_type": "execute_result"
    }
   ],
   "source": [
    "model3 = XGBClassifier(n_estimators = 700, learning_rate = 0.05, random_state = RANDOM_STATE)\n",
    "model3.fit(X_train_fit, y_train_fit, eval_set = [(X_train_eval, y_train_eval)], early_stopping_rounds = 10)"
   ]
  },
  {
   "cell_type": "code",
   "execution_count": 21,
   "id": "c1981df5",
   "metadata": {},
   "outputs": [
    {
     "name": "stdout",
     "output_type": "stream",
     "text": [
      "0.9727375\n"
     ]
    }
   ],
   "source": [
    "pred_train = model3.predict(X_train)\n",
    "print(accuracy_score(y_train, pred_train))"
   ]
  },
  {
   "cell_type": "code",
   "execution_count": 22,
   "id": "7ef99755",
   "metadata": {},
   "outputs": [
    {
     "name": "stdout",
     "output_type": "stream",
     "text": [
      "0.97255\n"
     ]
    }
   ],
   "source": [
    "pred_test = model3.predict(X_test)\n",
    "print(accuracy_score(y_test, pred_test))"
   ]
  },
  {
   "cell_type": "code",
   "execution_count": null,
   "id": "bc3cecfc",
   "metadata": {},
   "outputs": [],
   "source": []
  }
 ],
 "metadata": {
  "kernelspec": {
   "display_name": "Python 3 (ipykernel)",
   "language": "python",
   "name": "python3"
  },
  "language_info": {
   "codemirror_mode": {
    "name": "ipython",
    "version": 3
   },
   "file_extension": ".py",
   "mimetype": "text/x-python",
   "name": "python",
   "nbconvert_exporter": "python",
   "pygments_lexer": "ipython3",
   "version": "3.9.13"
  }
 },
 "nbformat": 4,
 "nbformat_minor": 5
}
